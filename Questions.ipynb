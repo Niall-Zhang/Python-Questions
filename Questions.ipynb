{
 "cells": [
  {
   "cell_type": "markdown",
   "id": "2ce8b205",
   "metadata": {},
   "source": [
    "#### Q1"
   ]
  },
  {
   "cell_type": "markdown",
   "id": "6e225183",
   "metadata": {},
   "source": [
    "The probability of rain on a given calendar day in Vancouver is p[i], where i is the day's index. For example, p[0] is the probability of rain on January 1st, and p[10] is the probability of precipitation on January 11th. Assume the year has 365 days (i.e., p has 365 elements). What is the chance it rains more than n (e.g., 100) days in Vancouver? Write a function that accepts p (probabilities of rain on a given calendar day) and n as input arguments and returns the possibility of raining at least n days."
   ]
  },
  {
   "cell_type": "code",
   "execution_count": 3,
   "id": "3d5dc99f",
   "metadata": {},
   "outputs": [],
   "source": [
    "from typing import Sequence\n",
    "\n",
    "def prob_rain_more_than_n(p: Sequence[float], n: int) -> float:\n",
    "    \n",
    "    dp = [0.0] * (len(p) + 1)\n",
    "    dp[0] = 1.0\n",
    "    \n",
    "    for i in p:\n",
    "        for k in range(len(p), 0, -1):\n",
    "            dp[k] = dp[k] * (1 - i) + dp[k - 1] * i\n",
    "        dp[0] *= (1 - i)\n",
    "    \n",
    "    total = sum(dp[n:])\n",
    "    return total"
   ]
  },
  {
   "cell_type": "markdown",
   "id": "e743e1cc",
   "metadata": {},
   "source": [
    "#### Q2"
   ]
  },
  {
   "cell_type": "markdown",
   "id": "9af3bb5c",
   "metadata": {},
   "source": [
    "A phoneme is a sound unit (similar to a character for text). We have an extensive pronunciation dictionary (think millions of words). Below is a snippet: ABACUS AE B AH K AH S BOOK B UH K THEIR DH EH R THERE DH EH R TOMATO T AH M AA T OW TOMATO T AH M EY T OW\n",
    "Given a sequence of phonemes as input (e.g. [\"DH\", \"EH\", \"R\", \"DH\", \"EH\", \"R\"]), find all the combinations of the words that can produce this sequence (e.g. [[\"THEIR\", \"THEIR\"], [\"THEIR\", \"THERE\"], [\"THERE\", \"THEIR\"], [\"THERE\", \"THERE\"]]). You can preprocess the dictionary into a different data structure if needed."
   ]
  },
  {
   "cell_type": "code",
   "execution_count": 5,
   "id": "b80cf70d",
   "metadata": {},
   "outputs": [
    {
     "name": "stdout",
     "output_type": "stream",
     "text": [
      "[['THEIR', 'THEIR'], ['THEIR', 'THERE'], ['THERE', 'THEIR'], ['THERE', 'THERE']]\n"
     ]
    }
   ],
   "source": [
    "from typing import List, Sequence, Dict, Tuple\n",
    "from collections import defaultdict\n",
    "\n",
    "def preprocess_dictionary(dictionary: List[Tuple[str, List[str]]]) -> Dict[Tuple[str, ...], List[str]]:\n",
    "    phoneme_to_words = defaultdict(list)\n",
    "    for word, phonemes in dictionary:\n",
    "        phoneme_to_words[tuple(phonemes)].append(word)\n",
    "    return phoneme_to_words\n",
    "\n",
    "def find_word_combos_with_pronunciation(\n",
    "    phonemes: Sequence[str],\n",
    "    phoneme_to_words: Dict[Tuple[str, ...], List[str]]) -> List[List[str]]:\n",
    "\n",
    "    def backtrack(index: int) -> List[List[str]]:\n",
    "        if index == len(phonemes):\n",
    "            return [[]]  \n",
    "        \n",
    "        combos = []\n",
    "        for length in range(1, len(phonemes) - index + 1):\n",
    "            phoneme_slice = tuple(phonemes[index:index + length])\n",
    "            if phoneme_slice in phoneme_to_words:\n",
    "                for word in phoneme_to_words[phoneme_slice]:\n",
    "                    for rest in backtrack(index + length):\n",
    "                        combos.append([word] + rest)\n",
    "        return combos\n",
    "\n",
    "    return backtrack(0)\n",
    "\n",
    "pronunciation_dict = [\n",
    "    (\"ABACUS\", [\"AE\", \"B\", \"AH\", \"K\", \"AH\", \"S\"]),\n",
    "    (\"BOOK\", [\"B\", \"UH\", \"K\"]),\n",
    "    (\"THEIR\", [\"DH\", \"EH\", \"R\"]),\n",
    "    (\"THERE\", [\"DH\", \"EH\", \"R\"]),\n",
    "    (\"TOMATO\", [\"T\", \"AH\", \"M\", \"AA\", \"T\", \"OW\"]),\n",
    "    (\"TOMATO\", [\"T\", \"AH\", \"M\", \"EY\", \"T\", \"OW\"]),\n",
    "]\n",
    "\n",
    "phoneme_to_words = preprocess_dictionary(pronunciation_dict)\n",
    "phoneme_sequence = [\"DH\", \"EH\", \"R\", \"DH\", \"EH\", \"R\"]\n",
    "\n",
    "result = find_word_combos_with_pronunciation(phoneme_sequence, phoneme_to_words)\n",
    "print(result)\n"
   ]
  },
  {
   "cell_type": "markdown",
   "id": "59bdeeca",
   "metadata": {},
   "source": [
    "#### Q3"
   ]
  },
  {
   "cell_type": "markdown",
   "id": "eb194b07",
   "metadata": {},
   "source": [
    "Implement CTC as this [paper](https://dl.acm.org/doi/abs/10.1145/1143844.1143891m) describes. Your implementation should support both forward and backward propagation operations."
   ]
  },
  {
   "cell_type": "code",
   "execution_count": 8,
   "id": "618e69a6",
   "metadata": {},
   "outputs": [],
   "source": [
    "import numpy as np\n",
    "\n",
    "def softmax(x):\n",
    "    e_x = np.exp(x - np.max(x, axis=1, keepdims=True))\n",
    "    return e_x / np.sum(e_x, axis=1, keepdims=True)\n",
    "\n",
    "def initialize_alpha_beta(T, S):\n",
    "    alpha = np.zeros((T, S))\n",
    "    beta = np.zeros((T, S))\n",
    "    return alpha, beta\n",
    "\n",
    "def forward_pass(logits, target, blank=0):\n",
    "    T, V = logits.shape\n",
    "    S = len(target)\n",
    "    target_seq = [blank] + [t for t in target for _ in (0, 1)] + [blank]\n",
    "    S = len(target_seq)\n",
    "\n",
    "    alpha, _ = initialize_alpha_beta(T, S)\n",
    "    alpha[0, 0] = logits[0, blank]\n",
    "    alpha[0, 1] = logits[0, target_seq[1]]\n",
    "\n",
    "    for t in range(1, T):\n",
    "        for s in range(S):\n",
    "            if s == 0:\n",
    "                alpha[t, s] = alpha[t - 1, s]\n",
    "            else:\n",
    "                alpha[t, s] = alpha[t - 1, s] + alpha[t - 1, s - 1]\n",
    "                if s > 1 and target_seq[s] != target_seq[s - 2]:\n",
    "                    alpha[t, s] += alpha[t - 1, s - 2]\n",
    "            alpha[t, s] *= logits[t, target_seq[s]]\n",
    "\n",
    "    return alpha, target_seq\n",
    "\n",
    "def backward_pass(logits, target_seq, blank=0):\n",
    "    T, V = logits.shape\n",
    "    S = len(target_seq)\n",
    "\n",
    "    _, beta = initialize_alpha_beta(T, S)\n",
    "    beta[-1, -1] = logits[-1, blank]\n",
    "    beta[-1, -2] = logits[-1, target_seq[-2]]\n",
    "\n",
    "    for t in range(T - 2, -1, -1):\n",
    "        for s in range(S - 1, -1, -1):\n",
    "            if s == S - 1:\n",
    "                beta[t, s] = beta[t + 1, s]\n",
    "            else:\n",
    "                beta[t, s] = beta[t + 1, s] + beta[t + 1, s + 1]\n",
    "                if s < S - 2 and target_seq[s] != target_seq[s + 2]:\n",
    "                    beta[t, s] += beta[t + 1, s + 2]\n",
    "            beta[t, s] *= logits[t, target_seq[s]]\n",
    "\n",
    "    return beta\n",
    "\n",
    "def ctc_loss(logits, target, blank=0):\n",
    "    T, V = logits.shape\n",
    "    alpha, target_seq = forward_pass(logits, target, blank)\n",
    "    beta = backward_pass(logits, target_seq, blank)\n",
    "\n",
    "    Z = alpha[-1, -1] + alpha[-1, -2]\n",
    "    loss = -np.log(Z)\n",
    "\n",
    "    grad = np.zeros_like(logits)\n",
    "    for t in range(T):\n",
    "        for v in range(V):\n",
    "            mask = np.array([target_seq[s] == v for s in range(len(target_seq))])\n",
    "            grad[t, v] = -np.sum((alpha[t, mask] * beta[t, mask]) / logits[t, v]) / Z\n",
    "\n",
    "    return loss, grad"
   ]
  }
 ],
 "metadata": {
  "kernelspec": {
   "display_name": "Python 3 (ipykernel)",
   "language": "python",
   "name": "python3"
  },
  "language_info": {
   "codemirror_mode": {
    "name": "ipython",
    "version": 3
   },
   "file_extension": ".py",
   "mimetype": "text/x-python",
   "name": "python",
   "nbconvert_exporter": "python",
   "pygments_lexer": "ipython3",
   "version": "3.10.13"
  }
 },
 "nbformat": 4,
 "nbformat_minor": 5
}
